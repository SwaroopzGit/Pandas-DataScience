{
 "cells": [
  {
   "cell_type": "code",
   "execution_count": 1,
   "metadata": {},
   "outputs": [],
   "source": [
    "import pandas as pd"
   ]
  },
  {
   "cell_type": "code",
   "execution_count": 2,
   "metadata": {},
   "outputs": [],
   "source": [
    "df = pd.read_csv('data\\survey_results_public.csv', index_col=\"Respondent\")"
   ]
  },
  {
   "cell_type": "code",
   "execution_count": 3,
   "metadata": {},
   "outputs": [
    {
     "data": {
      "text/plain": [
       "Respondent\n",
       "1          NaN\n",
       "2          NaN\n",
       "3       8820.0\n",
       "4      61000.0\n",
       "5          NaN\n",
       "6     366420.0\n",
       "7          NaN\n",
       "8          NaN\n",
       "9      95179.0\n",
       "10     13293.0\n",
       "11         NaN\n",
       "12         NaN\n",
       "13     90000.0\n",
       "14     57060.0\n",
       "15         NaN\n",
       "Name: ConvertedComp, dtype: float64"
      ]
     },
     "execution_count": 3,
     "metadata": {},
     "output_type": "execute_result"
    }
   ],
   "source": [
    "df['ConvertedComp'].head(15)"
   ]
  },
  {
   "cell_type": "code",
   "execution_count": 4,
   "metadata": {},
   "outputs": [
    {
     "data": {
      "text/plain": [
       "57287.0"
      ]
     },
     "execution_count": 4,
     "metadata": {},
     "output_type": "execute_result"
    }
   ],
   "source": [
    "df['ConvertedComp'].median()"
   ]
  },
  {
   "cell_type": "code",
   "execution_count": 5,
   "metadata": {},
   "outputs": [
    {
     "data": {
      "text/plain": [
       "CompTotal        62000.0\n",
       "ConvertedComp    57287.0\n",
       "WorkWeekHrs         40.0\n",
       "CodeRevHrs           4.0\n",
       "Age                 29.0\n",
       "dtype: float64"
      ]
     },
     "execution_count": 5,
     "metadata": {},
     "output_type": "execute_result"
    }
   ],
   "source": [
    "df.median()"
   ]
  },
  {
   "cell_type": "code",
   "execution_count": 6,
   "metadata": {},
   "outputs": [
    {
     "data": {
      "text/html": [
       "<div>\n",
       "<style scoped>\n",
       "    .dataframe tbody tr th:only-of-type {\n",
       "        vertical-align: middle;\n",
       "    }\n",
       "\n",
       "    .dataframe tbody tr th {\n",
       "        vertical-align: top;\n",
       "    }\n",
       "\n",
       "    .dataframe thead th {\n",
       "        text-align: right;\n",
       "    }\n",
       "</style>\n",
       "<table border=\"1\" class=\"dataframe\">\n",
       "  <thead>\n",
       "    <tr style=\"text-align: right;\">\n",
       "      <th></th>\n",
       "      <th>CompTotal</th>\n",
       "      <th>ConvertedComp</th>\n",
       "      <th>WorkWeekHrs</th>\n",
       "      <th>CodeRevHrs</th>\n",
       "      <th>Age</th>\n",
       "    </tr>\n",
       "  </thead>\n",
       "  <tbody>\n",
       "    <tr>\n",
       "      <th>count</th>\n",
       "      <td>5.594500e+04</td>\n",
       "      <td>5.582300e+04</td>\n",
       "      <td>64503.000000</td>\n",
       "      <td>49790.000000</td>\n",
       "      <td>79210.000000</td>\n",
       "    </tr>\n",
       "    <tr>\n",
       "      <th>mean</th>\n",
       "      <td>5.519014e+11</td>\n",
       "      <td>1.271107e+05</td>\n",
       "      <td>42.127197</td>\n",
       "      <td>5.084308</td>\n",
       "      <td>30.336699</td>\n",
       "    </tr>\n",
       "    <tr>\n",
       "      <th>std</th>\n",
       "      <td>7.331926e+13</td>\n",
       "      <td>2.841523e+05</td>\n",
       "      <td>37.287610</td>\n",
       "      <td>5.513931</td>\n",
       "      <td>9.178390</td>\n",
       "    </tr>\n",
       "    <tr>\n",
       "      <th>min</th>\n",
       "      <td>0.000000e+00</td>\n",
       "      <td>0.000000e+00</td>\n",
       "      <td>1.000000</td>\n",
       "      <td>0.000000</td>\n",
       "      <td>1.000000</td>\n",
       "    </tr>\n",
       "    <tr>\n",
       "      <th>25%</th>\n",
       "      <td>2.000000e+04</td>\n",
       "      <td>2.577750e+04</td>\n",
       "      <td>40.000000</td>\n",
       "      <td>2.000000</td>\n",
       "      <td>24.000000</td>\n",
       "    </tr>\n",
       "    <tr>\n",
       "      <th>50%</th>\n",
       "      <td>6.200000e+04</td>\n",
       "      <td>5.728700e+04</td>\n",
       "      <td>40.000000</td>\n",
       "      <td>4.000000</td>\n",
       "      <td>29.000000</td>\n",
       "    </tr>\n",
       "    <tr>\n",
       "      <th>75%</th>\n",
       "      <td>1.200000e+05</td>\n",
       "      <td>1.000000e+05</td>\n",
       "      <td>44.750000</td>\n",
       "      <td>6.000000</td>\n",
       "      <td>35.000000</td>\n",
       "    </tr>\n",
       "    <tr>\n",
       "      <th>max</th>\n",
       "      <td>1.000000e+16</td>\n",
       "      <td>2.000000e+06</td>\n",
       "      <td>4850.000000</td>\n",
       "      <td>99.000000</td>\n",
       "      <td>99.000000</td>\n",
       "    </tr>\n",
       "  </tbody>\n",
       "</table>\n",
       "</div>"
      ],
      "text/plain": [
       "          CompTotal  ConvertedComp   WorkWeekHrs    CodeRevHrs           Age\n",
       "count  5.594500e+04   5.582300e+04  64503.000000  49790.000000  79210.000000\n",
       "mean   5.519014e+11   1.271107e+05     42.127197      5.084308     30.336699\n",
       "std    7.331926e+13   2.841523e+05     37.287610      5.513931      9.178390\n",
       "min    0.000000e+00   0.000000e+00      1.000000      0.000000      1.000000\n",
       "25%    2.000000e+04   2.577750e+04     40.000000      2.000000     24.000000\n",
       "50%    6.200000e+04   5.728700e+04     40.000000      4.000000     29.000000\n",
       "75%    1.200000e+05   1.000000e+05     44.750000      6.000000     35.000000\n",
       "max    1.000000e+16   2.000000e+06   4850.000000     99.000000     99.000000"
      ]
     },
     "execution_count": 6,
     "metadata": {},
     "output_type": "execute_result"
    }
   ],
   "source": [
    "df.describe()"
   ]
  },
  {
   "cell_type": "code",
   "execution_count": 8,
   "metadata": {},
   "outputs": [
    {
     "data": {
      "text/plain": [
       "55823"
      ]
     },
     "execution_count": 8,
     "metadata": {},
     "output_type": "execute_result"
    }
   ],
   "source": [
    "df['ConvertedComp'].count()"
   ]
  },
  {
   "cell_type": "code",
   "execution_count": 9,
   "metadata": {},
   "outputs": [
    {
     "data": {
      "text/plain": [
       "2000000.0    709\n",
       "1000000.0    558\n",
       "120000.0     502\n",
       "100000.0     480\n",
       "150000.0     434\n",
       "            ... \n",
       "52826.0        1\n",
       "72888.0        1\n",
       "7548.0         1\n",
       "20436.0        1\n",
       "44947.0        1\n",
       "Name: ConvertedComp, Length: 9162, dtype: int64"
      ]
     },
     "execution_count": 9,
     "metadata": {},
     "output_type": "execute_result"
    }
   ],
   "source": [
    "df['ConvertedComp'].value_counts()"
   ]
  },
  {
   "cell_type": "code",
   "execution_count": 10,
   "metadata": {},
   "outputs": [
    {
     "data": {
      "text/plain": [
       "Yes    71257\n",
       "No     17626\n",
       "Name: Hobbyist, dtype: int64"
      ]
     },
     "execution_count": 10,
     "metadata": {},
     "output_type": "execute_result"
    }
   ],
   "source": [
    "df['Hobbyist'].value_counts()"
   ]
  },
  {
   "cell_type": "code",
   "execution_count": 12,
   "metadata": {},
   "outputs": [
    {
     "data": {
      "text/plain": [
       "Reddit                      14374\n",
       "YouTube                     13830\n",
       "WhatsApp                    13347\n",
       "Facebook                    13178\n",
       "Twitter                     11398\n",
       "Instagram                    6261\n",
       "I don't use social media     5554\n",
       "LinkedIn                     4501\n",
       "WeChat 微信                     667\n",
       "Snapchat                      628\n",
       "VK ВКонта́кте                 603\n",
       "Weibo 新浪微博                     56\n",
       "Youku Tudou 优酷                 21\n",
       "Hello                          19\n",
       "Name: SocialMedia, dtype: int64"
      ]
     },
     "execution_count": 12,
     "metadata": {},
     "output_type": "execute_result"
    }
   ],
   "source": [
    "df['SocialMedia'].value_counts()"
   ]
  },
  {
   "cell_type": "code",
   "execution_count": 13,
   "metadata": {},
   "outputs": [
    {
     "data": {
      "text/plain": [
       "Reddit                      0.170233\n",
       "YouTube                     0.163791\n",
       "WhatsApp                    0.158071\n",
       "Facebook                    0.156069\n",
       "Twitter                     0.134988\n",
       "Instagram                   0.074150\n",
       "I don't use social media    0.065777\n",
       "LinkedIn                    0.053306\n",
       "WeChat 微信                   0.007899\n",
       "Snapchat                    0.007437\n",
       "VK ВКонта́кте               0.007141\n",
       "Weibo 新浪微博                  0.000663\n",
       "Youku Tudou 优酷              0.000249\n",
       "Hello                       0.000225\n",
       "Name: SocialMedia, dtype: float64"
      ]
     },
     "execution_count": 13,
     "metadata": {},
     "output_type": "execute_result"
    }
   ],
   "source": [
    "df['SocialMedia'].value_counts(normalize=True) # for percentage == 17% reddit"
   ]
  },
  {
   "cell_type": "code",
   "execution_count": 14,
   "metadata": {},
   "outputs": [
    {
     "data": {
      "text/plain": [
       "United States            20949\n",
       "India                     9061\n",
       "Germany                   5866\n",
       "United Kingdom            5737\n",
       "Canada                    3395\n",
       "                         ...  \n",
       "Sao Tome and Principe        1\n",
       "Papua New Guinea             1\n",
       "Saint Kitts and Nevis        1\n",
       "North Korea                  1\n",
       "Tonga                        1\n",
       "Name: Country, Length: 179, dtype: int64"
      ]
     },
     "execution_count": 14,
     "metadata": {},
     "output_type": "execute_result"
    }
   ],
   "source": [
    "#Grouping the data = Splitting the object + applying a func + combining the results\n",
    "df['Country'].value_counts()"
   ]
  },
  {
   "cell_type": "code",
   "execution_count": 16,
   "metadata": {},
   "outputs": [],
   "source": [
    "#splitting the object\n",
    "country_group = df.groupby(['Country'])"
   ]
  },
  {
   "cell_type": "code",
   "execution_count": 18,
   "metadata": {},
   "outputs": [
    {
     "data": {
      "text/html": [
       "<div>\n",
       "<style scoped>\n",
       "    .dataframe tbody tr th:only-of-type {\n",
       "        vertical-align: middle;\n",
       "    }\n",
       "\n",
       "    .dataframe tbody tr th {\n",
       "        vertical-align: top;\n",
       "    }\n",
       "\n",
       "    .dataframe thead th {\n",
       "        text-align: right;\n",
       "    }\n",
       "</style>\n",
       "<table border=\"1\" class=\"dataframe\">\n",
       "  <thead>\n",
       "    <tr style=\"text-align: right;\">\n",
       "      <th></th>\n",
       "      <th>MainBranch</th>\n",
       "      <th>Hobbyist</th>\n",
       "      <th>OpenSourcer</th>\n",
       "      <th>OpenSource</th>\n",
       "      <th>Employment</th>\n",
       "      <th>Country</th>\n",
       "      <th>Student</th>\n",
       "      <th>EdLevel</th>\n",
       "      <th>UndergradMajor</th>\n",
       "      <th>EduOther</th>\n",
       "      <th>...</th>\n",
       "      <th>WelcomeChange</th>\n",
       "      <th>SONewContent</th>\n",
       "      <th>Age</th>\n",
       "      <th>Gender</th>\n",
       "      <th>Trans</th>\n",
       "      <th>Sexuality</th>\n",
       "      <th>Ethnicity</th>\n",
       "      <th>Dependents</th>\n",
       "      <th>SurveyLength</th>\n",
       "      <th>SurveyEase</th>\n",
       "    </tr>\n",
       "    <tr>\n",
       "      <th>Respondent</th>\n",
       "      <th></th>\n",
       "      <th></th>\n",
       "      <th></th>\n",
       "      <th></th>\n",
       "      <th></th>\n",
       "      <th></th>\n",
       "      <th></th>\n",
       "      <th></th>\n",
       "      <th></th>\n",
       "      <th></th>\n",
       "      <th></th>\n",
       "      <th></th>\n",
       "      <th></th>\n",
       "      <th></th>\n",
       "      <th></th>\n",
       "      <th></th>\n",
       "      <th></th>\n",
       "      <th></th>\n",
       "      <th></th>\n",
       "      <th></th>\n",
       "      <th></th>\n",
       "    </tr>\n",
       "  </thead>\n",
       "  <tbody>\n",
       "    <tr>\n",
       "      <th>8</th>\n",
       "      <td>I code primarily as a hobby</td>\n",
       "      <td>Yes</td>\n",
       "      <td>Less than once per year</td>\n",
       "      <td>OSS is, on average, of HIGHER quality than pro...</td>\n",
       "      <td>Not employed, but looking for work</td>\n",
       "      <td>India</td>\n",
       "      <td>NaN</td>\n",
       "      <td>Bachelor’s degree (BA, BS, B.Eng., etc.)</td>\n",
       "      <td>Computer science, computer engineering, or sof...</td>\n",
       "      <td>Taught yourself a new language, framework, or ...</td>\n",
       "      <td>...</td>\n",
       "      <td>A lot more welcome now than last year</td>\n",
       "      <td>Tech articles written by other developers;Indu...</td>\n",
       "      <td>24.0</td>\n",
       "      <td>Man</td>\n",
       "      <td>No</td>\n",
       "      <td>Straight / Heterosexual</td>\n",
       "      <td>NaN</td>\n",
       "      <td>NaN</td>\n",
       "      <td>Appropriate in length</td>\n",
       "      <td>Neither easy nor difficult</td>\n",
       "    </tr>\n",
       "    <tr>\n",
       "      <th>10</th>\n",
       "      <td>I am a developer by profession</td>\n",
       "      <td>Yes</td>\n",
       "      <td>Once a month or more often</td>\n",
       "      <td>OSS is, on average, of HIGHER quality than pro...</td>\n",
       "      <td>Employed full-time</td>\n",
       "      <td>India</td>\n",
       "      <td>No</td>\n",
       "      <td>Master’s degree (MA, MS, M.Eng., MBA, etc.)</td>\n",
       "      <td>NaN</td>\n",
       "      <td>NaN</td>\n",
       "      <td>...</td>\n",
       "      <td>Somewhat less welcome now than last year</td>\n",
       "      <td>Tech articles written by other developers;Tech...</td>\n",
       "      <td>NaN</td>\n",
       "      <td>NaN</td>\n",
       "      <td>NaN</td>\n",
       "      <td>NaN</td>\n",
       "      <td>NaN</td>\n",
       "      <td>Yes</td>\n",
       "      <td>Too long</td>\n",
       "      <td>Difficult</td>\n",
       "    </tr>\n",
       "    <tr>\n",
       "      <th>15</th>\n",
       "      <td>I am a student who is learning to code</td>\n",
       "      <td>Yes</td>\n",
       "      <td>Never</td>\n",
       "      <td>OSS is, on average, of HIGHER quality than pro...</td>\n",
       "      <td>Not employed, but looking for work</td>\n",
       "      <td>India</td>\n",
       "      <td>Yes, full-time</td>\n",
       "      <td>Secondary school (e.g. American high school, G...</td>\n",
       "      <td>NaN</td>\n",
       "      <td>Taken an online course in programming or softw...</td>\n",
       "      <td>...</td>\n",
       "      <td>Just as welcome now as I felt last year</td>\n",
       "      <td>Tech articles written by other developers;Indu...</td>\n",
       "      <td>20.0</td>\n",
       "      <td>Man</td>\n",
       "      <td>No</td>\n",
       "      <td>NaN</td>\n",
       "      <td>NaN</td>\n",
       "      <td>Yes</td>\n",
       "      <td>Too long</td>\n",
       "      <td>Neither easy nor difficult</td>\n",
       "    </tr>\n",
       "    <tr>\n",
       "      <th>50</th>\n",
       "      <td>I am a developer by profession</td>\n",
       "      <td>Yes</td>\n",
       "      <td>Once a month or more often</td>\n",
       "      <td>OSS is, on average, of LOWER quality than prop...</td>\n",
       "      <td>Employed full-time</td>\n",
       "      <td>India</td>\n",
       "      <td>No</td>\n",
       "      <td>Bachelor’s degree (BA, BS, B.Eng., etc.)</td>\n",
       "      <td>Another engineering discipline (ex. civil, ele...</td>\n",
       "      <td>Received on-the-job training in software devel...</td>\n",
       "      <td>...</td>\n",
       "      <td>Just as welcome now as I felt last year</td>\n",
       "      <td>Tech articles written by other developers;Tech...</td>\n",
       "      <td>23.0</td>\n",
       "      <td>Man</td>\n",
       "      <td>No</td>\n",
       "      <td>NaN</td>\n",
       "      <td>South Asian</td>\n",
       "      <td>No</td>\n",
       "      <td>Too long</td>\n",
       "      <td>Easy</td>\n",
       "    </tr>\n",
       "    <tr>\n",
       "      <th>65</th>\n",
       "      <td>I am a developer by profession</td>\n",
       "      <td>Yes</td>\n",
       "      <td>Never</td>\n",
       "      <td>NaN</td>\n",
       "      <td>Employed full-time</td>\n",
       "      <td>India</td>\n",
       "      <td>No</td>\n",
       "      <td>Bachelor’s degree (BA, BS, B.Eng., etc.)</td>\n",
       "      <td>Information systems, information technology, o...</td>\n",
       "      <td>NaN</td>\n",
       "      <td>...</td>\n",
       "      <td>A lot more welcome now than last year</td>\n",
       "      <td>NaN</td>\n",
       "      <td>21.0</td>\n",
       "      <td>Man</td>\n",
       "      <td>No</td>\n",
       "      <td>NaN</td>\n",
       "      <td>NaN</td>\n",
       "      <td>Yes</td>\n",
       "      <td>Appropriate in length</td>\n",
       "      <td>Neither easy nor difficult</td>\n",
       "    </tr>\n",
       "    <tr>\n",
       "      <th>...</th>\n",
       "      <td>...</td>\n",
       "      <td>...</td>\n",
       "      <td>...</td>\n",
       "      <td>...</td>\n",
       "      <td>...</td>\n",
       "      <td>...</td>\n",
       "      <td>...</td>\n",
       "      <td>...</td>\n",
       "      <td>...</td>\n",
       "      <td>...</td>\n",
       "      <td>...</td>\n",
       "      <td>...</td>\n",
       "      <td>...</td>\n",
       "      <td>...</td>\n",
       "      <td>...</td>\n",
       "      <td>...</td>\n",
       "      <td>...</td>\n",
       "      <td>...</td>\n",
       "      <td>...</td>\n",
       "      <td>...</td>\n",
       "      <td>...</td>\n",
       "    </tr>\n",
       "    <tr>\n",
       "      <th>77339</th>\n",
       "      <td>NaN</td>\n",
       "      <td>Yes</td>\n",
       "      <td>Less than once per year</td>\n",
       "      <td>OSS is, on average, of HIGHER quality than pro...</td>\n",
       "      <td>Employed full-time</td>\n",
       "      <td>India</td>\n",
       "      <td>Yes, full-time</td>\n",
       "      <td>Bachelor’s degree (BA, BS, B.Eng., etc.)</td>\n",
       "      <td>Another engineering discipline (ex. civil, ele...</td>\n",
       "      <td>Taken an online course in programming or softw...</td>\n",
       "      <td>...</td>\n",
       "      <td>Not applicable - I did not use Stack Overflow ...</td>\n",
       "      <td>Tech articles written by other developers;Indu...</td>\n",
       "      <td>NaN</td>\n",
       "      <td>NaN</td>\n",
       "      <td>NaN</td>\n",
       "      <td>NaN</td>\n",
       "      <td>NaN</td>\n",
       "      <td>NaN</td>\n",
       "      <td>NaN</td>\n",
       "      <td>NaN</td>\n",
       "    </tr>\n",
       "    <tr>\n",
       "      <th>79795</th>\n",
       "      <td>NaN</td>\n",
       "      <td>Yes</td>\n",
       "      <td>Less than once a month but more than once per ...</td>\n",
       "      <td>OSS is, on average, of HIGHER quality than pro...</td>\n",
       "      <td>Employed full-time</td>\n",
       "      <td>India</td>\n",
       "      <td>No</td>\n",
       "      <td>Bachelor’s degree (BA, BS, B.Eng., etc.)</td>\n",
       "      <td>Computer science, computer engineering, or sof...</td>\n",
       "      <td>Taken an online course in programming or softw...</td>\n",
       "      <td>...</td>\n",
       "      <td>Somewhat more welcome now than last year</td>\n",
       "      <td>Tech meetups or events in your area;Courses on...</td>\n",
       "      <td>NaN</td>\n",
       "      <td>Man</td>\n",
       "      <td>No</td>\n",
       "      <td>Straight / Heterosexual</td>\n",
       "      <td>NaN</td>\n",
       "      <td>No</td>\n",
       "      <td>Too long</td>\n",
       "      <td>Difficult</td>\n",
       "    </tr>\n",
       "    <tr>\n",
       "      <th>83862</th>\n",
       "      <td>NaN</td>\n",
       "      <td>Yes</td>\n",
       "      <td>Once a month or more often</td>\n",
       "      <td>OSS is, on average, of HIGHER quality than pro...</td>\n",
       "      <td>Employed full-time</td>\n",
       "      <td>India</td>\n",
       "      <td>Yes, full-time</td>\n",
       "      <td>Bachelor’s degree (BA, BS, B.Eng., etc.)</td>\n",
       "      <td>NaN</td>\n",
       "      <td>Participated in a hackathon</td>\n",
       "      <td>...</td>\n",
       "      <td>Just as welcome now as I felt last year</td>\n",
       "      <td>Tech articles written by other developers;Indu...</td>\n",
       "      <td>24.0</td>\n",
       "      <td>Man</td>\n",
       "      <td>No</td>\n",
       "      <td>Straight / Heterosexual</td>\n",
       "      <td>NaN</td>\n",
       "      <td>Yes</td>\n",
       "      <td>Too long</td>\n",
       "      <td>Neither easy nor difficult</td>\n",
       "    </tr>\n",
       "    <tr>\n",
       "      <th>84299</th>\n",
       "      <td>NaN</td>\n",
       "      <td>Yes</td>\n",
       "      <td>Never</td>\n",
       "      <td>The quality of OSS and closed source software ...</td>\n",
       "      <td>Employed full-time</td>\n",
       "      <td>India</td>\n",
       "      <td>Yes, full-time</td>\n",
       "      <td>Bachelor’s degree (BA, BS, B.Eng., etc.)</td>\n",
       "      <td>Web development or web design</td>\n",
       "      <td>Taken an online course in programming or softw...</td>\n",
       "      <td>...</td>\n",
       "      <td>Somewhat more welcome now than last year</td>\n",
       "      <td>NaN</td>\n",
       "      <td>NaN</td>\n",
       "      <td>NaN</td>\n",
       "      <td>NaN</td>\n",
       "      <td>NaN</td>\n",
       "      <td>NaN</td>\n",
       "      <td>NaN</td>\n",
       "      <td>NaN</td>\n",
       "      <td>NaN</td>\n",
       "    </tr>\n",
       "    <tr>\n",
       "      <th>86012</th>\n",
       "      <td>NaN</td>\n",
       "      <td>Yes</td>\n",
       "      <td>Once a month or more often</td>\n",
       "      <td>OSS is, on average, of HIGHER quality than pro...</td>\n",
       "      <td>Employed full-time</td>\n",
       "      <td>India</td>\n",
       "      <td>No</td>\n",
       "      <td>Master’s degree (MA, MS, M.Eng., MBA, etc.)</td>\n",
       "      <td>Another engineering discipline (ex. civil, ele...</td>\n",
       "      <td>Taught yourself a new language, framework, or ...</td>\n",
       "      <td>...</td>\n",
       "      <td>Not applicable - I did not use Stack Overflow ...</td>\n",
       "      <td>Industry news about technologies you're intere...</td>\n",
       "      <td>24.0</td>\n",
       "      <td>Man</td>\n",
       "      <td>No</td>\n",
       "      <td>NaN</td>\n",
       "      <td>South Asian</td>\n",
       "      <td>NaN</td>\n",
       "      <td>Appropriate in length</td>\n",
       "      <td>Easy</td>\n",
       "    </tr>\n",
       "  </tbody>\n",
       "</table>\n",
       "<p>9061 rows × 84 columns</p>\n",
       "</div>"
      ],
      "text/plain": [
       "                                        MainBranch Hobbyist  \\\n",
       "Respondent                                                    \n",
       "8                      I code primarily as a hobby      Yes   \n",
       "10                  I am a developer by profession      Yes   \n",
       "15          I am a student who is learning to code      Yes   \n",
       "50                  I am a developer by profession      Yes   \n",
       "65                  I am a developer by profession      Yes   \n",
       "...                                            ...      ...   \n",
       "77339                                          NaN      Yes   \n",
       "79795                                          NaN      Yes   \n",
       "83862                                          NaN      Yes   \n",
       "84299                                          NaN      Yes   \n",
       "86012                                          NaN      Yes   \n",
       "\n",
       "                                                  OpenSourcer  \\\n",
       "Respondent                                                      \n",
       "8                                     Less than once per year   \n",
       "10                                 Once a month or more often   \n",
       "15                                                      Never   \n",
       "50                                 Once a month or more often   \n",
       "65                                                      Never   \n",
       "...                                                       ...   \n",
       "77339                                 Less than once per year   \n",
       "79795       Less than once a month but more than once per ...   \n",
       "83862                              Once a month or more often   \n",
       "84299                                                   Never   \n",
       "86012                              Once a month or more often   \n",
       "\n",
       "                                                   OpenSource  \\\n",
       "Respondent                                                      \n",
       "8           OSS is, on average, of HIGHER quality than pro...   \n",
       "10          OSS is, on average, of HIGHER quality than pro...   \n",
       "15          OSS is, on average, of HIGHER quality than pro...   \n",
       "50          OSS is, on average, of LOWER quality than prop...   \n",
       "65                                                        NaN   \n",
       "...                                                       ...   \n",
       "77339       OSS is, on average, of HIGHER quality than pro...   \n",
       "79795       OSS is, on average, of HIGHER quality than pro...   \n",
       "83862       OSS is, on average, of HIGHER quality than pro...   \n",
       "84299       The quality of OSS and closed source software ...   \n",
       "86012       OSS is, on average, of HIGHER quality than pro...   \n",
       "\n",
       "                                    Employment Country         Student  \\\n",
       "Respondent                                                               \n",
       "8           Not employed, but looking for work   India             NaN   \n",
       "10                          Employed full-time   India              No   \n",
       "15          Not employed, but looking for work   India  Yes, full-time   \n",
       "50                          Employed full-time   India              No   \n",
       "65                          Employed full-time   India              No   \n",
       "...                                        ...     ...             ...   \n",
       "77339                       Employed full-time   India  Yes, full-time   \n",
       "79795                       Employed full-time   India              No   \n",
       "83862                       Employed full-time   India  Yes, full-time   \n",
       "84299                       Employed full-time   India  Yes, full-time   \n",
       "86012                       Employed full-time   India              No   \n",
       "\n",
       "                                                      EdLevel  \\\n",
       "Respondent                                                      \n",
       "8                    Bachelor’s degree (BA, BS, B.Eng., etc.)   \n",
       "10                Master’s degree (MA, MS, M.Eng., MBA, etc.)   \n",
       "15          Secondary school (e.g. American high school, G...   \n",
       "50                   Bachelor’s degree (BA, BS, B.Eng., etc.)   \n",
       "65                   Bachelor’s degree (BA, BS, B.Eng., etc.)   \n",
       "...                                                       ...   \n",
       "77339                Bachelor’s degree (BA, BS, B.Eng., etc.)   \n",
       "79795                Bachelor’s degree (BA, BS, B.Eng., etc.)   \n",
       "83862                Bachelor’s degree (BA, BS, B.Eng., etc.)   \n",
       "84299                Bachelor’s degree (BA, BS, B.Eng., etc.)   \n",
       "86012             Master’s degree (MA, MS, M.Eng., MBA, etc.)   \n",
       "\n",
       "                                               UndergradMajor  \\\n",
       "Respondent                                                      \n",
       "8           Computer science, computer engineering, or sof...   \n",
       "10                                                        NaN   \n",
       "15                                                        NaN   \n",
       "50          Another engineering discipline (ex. civil, ele...   \n",
       "65          Information systems, information technology, o...   \n",
       "...                                                       ...   \n",
       "77339       Another engineering discipline (ex. civil, ele...   \n",
       "79795       Computer science, computer engineering, or sof...   \n",
       "83862                                                     NaN   \n",
       "84299                           Web development or web design   \n",
       "86012       Another engineering discipline (ex. civil, ele...   \n",
       "\n",
       "                                                     EduOther  ...  \\\n",
       "Respondent                                                     ...   \n",
       "8           Taught yourself a new language, framework, or ...  ...   \n",
       "10                                                        NaN  ...   \n",
       "15          Taken an online course in programming or softw...  ...   \n",
       "50          Received on-the-job training in software devel...  ...   \n",
       "65                                                        NaN  ...   \n",
       "...                                                       ...  ...   \n",
       "77339       Taken an online course in programming or softw...  ...   \n",
       "79795       Taken an online course in programming or softw...  ...   \n",
       "83862                             Participated in a hackathon  ...   \n",
       "84299       Taken an online course in programming or softw...  ...   \n",
       "86012       Taught yourself a new language, framework, or ...  ...   \n",
       "\n",
       "                                                WelcomeChange  \\\n",
       "Respondent                                                      \n",
       "8                       A lot more welcome now than last year   \n",
       "10                   Somewhat less welcome now than last year   \n",
       "15                    Just as welcome now as I felt last year   \n",
       "50                    Just as welcome now as I felt last year   \n",
       "65                      A lot more welcome now than last year   \n",
       "...                                                       ...   \n",
       "77339       Not applicable - I did not use Stack Overflow ...   \n",
       "79795                Somewhat more welcome now than last year   \n",
       "83862                 Just as welcome now as I felt last year   \n",
       "84299                Somewhat more welcome now than last year   \n",
       "86012       Not applicable - I did not use Stack Overflow ...   \n",
       "\n",
       "                                                 SONewContent   Age Gender  \\\n",
       "Respondent                                                                   \n",
       "8           Tech articles written by other developers;Indu...  24.0    Man   \n",
       "10          Tech articles written by other developers;Tech...   NaN    NaN   \n",
       "15          Tech articles written by other developers;Indu...  20.0    Man   \n",
       "50          Tech articles written by other developers;Tech...  23.0    Man   \n",
       "65                                                        NaN  21.0    Man   \n",
       "...                                                       ...   ...    ...   \n",
       "77339       Tech articles written by other developers;Indu...   NaN    NaN   \n",
       "79795       Tech meetups or events in your area;Courses on...   NaN    Man   \n",
       "83862       Tech articles written by other developers;Indu...  24.0    Man   \n",
       "84299                                                     NaN   NaN    NaN   \n",
       "86012       Industry news about technologies you're intere...  24.0    Man   \n",
       "\n",
       "           Trans                Sexuality    Ethnicity Dependents  \\\n",
       "Respondent                                                          \n",
       "8             No  Straight / Heterosexual          NaN        NaN   \n",
       "10           NaN                      NaN          NaN        Yes   \n",
       "15            No                      NaN          NaN        Yes   \n",
       "50            No                      NaN  South Asian         No   \n",
       "65            No                      NaN          NaN        Yes   \n",
       "...          ...                      ...          ...        ...   \n",
       "77339        NaN                      NaN          NaN        NaN   \n",
       "79795         No  Straight / Heterosexual          NaN         No   \n",
       "83862         No  Straight / Heterosexual          NaN        Yes   \n",
       "84299        NaN                      NaN          NaN        NaN   \n",
       "86012         No                      NaN  South Asian        NaN   \n",
       "\n",
       "                     SurveyLength                  SurveyEase  \n",
       "Respondent                                                     \n",
       "8           Appropriate in length  Neither easy nor difficult  \n",
       "10                       Too long                   Difficult  \n",
       "15                       Too long  Neither easy nor difficult  \n",
       "50                       Too long                        Easy  \n",
       "65          Appropriate in length  Neither easy nor difficult  \n",
       "...                           ...                         ...  \n",
       "77339                         NaN                         NaN  \n",
       "79795                    Too long                   Difficult  \n",
       "83862                    Too long  Neither easy nor difficult  \n",
       "84299                         NaN                         NaN  \n",
       "86012       Appropriate in length                        Easy  \n",
       "\n",
       "[9061 rows x 84 columns]"
      ]
     },
     "execution_count": 18,
     "metadata": {},
     "output_type": "execute_result"
    }
   ],
   "source": [
    "country_group.get_group('India')"
   ]
  },
  {
   "cell_type": "code",
   "execution_count": 21,
   "metadata": {},
   "outputs": [
    {
     "data": {
      "text/plain": [
       "WhatsApp                    2990\n",
       "YouTube                     1820\n",
       "LinkedIn                     955\n",
       "Facebook                     841\n",
       "Instagram                    822\n",
       "Twitter                      542\n",
       "Reddit                       473\n",
       "I don't use social media     250\n",
       "Snapchat                      23\n",
       "WeChat 微信                      5\n",
       "Hello                          5\n",
       "VK ВКонта́кте                  4\n",
       "Youku Tudou 优酷                 2\n",
       "Weibo 新浪微博                     1\n",
       "Name: SocialMedia, dtype: int64"
      ]
     },
     "execution_count": 21,
     "metadata": {},
     "output_type": "execute_result"
    }
   ],
   "source": [
    "filt = df['Country']=='India'\n",
    "df.loc[filt]['SocialMedia'].value_counts()"
   ]
  },
  {
   "cell_type": "code",
   "execution_count": 29,
   "metadata": {},
   "outputs": [
    {
     "data": {
      "text/plain": [
       "SocialMedia\n",
       "WeChat 微信                   0.670549\n",
       "YouTube                     0.088186\n",
       "Weibo 新浪微博                  0.069884\n",
       "I don't use social media    0.044925\n",
       "Twitter                     0.044925\n",
       "Reddit                      0.019967\n",
       "LinkedIn                    0.018303\n",
       "Facebook                    0.013311\n",
       "Instagram                   0.011647\n",
       "Youku Tudou 优酷              0.011647\n",
       "WhatsApp                    0.004992\n",
       "VK ВКонта́кте               0.001664\n",
       "Name: SocialMedia, dtype: float64"
      ]
     },
     "execution_count": 29,
     "metadata": {},
     "output_type": "execute_result"
    }
   ],
   "source": [
    "country_group['SocialMedia'].value_counts(normalize=True).loc['China']"
   ]
  },
  {
   "cell_type": "code",
   "execution_count": 31,
   "metadata": {},
   "outputs": [
    {
     "data": {
      "text/plain": [
       "10080.0"
      ]
     },
     "execution_count": 31,
     "metadata": {},
     "output_type": "execute_result"
    }
   ],
   "source": [
    "country_group['ConvertedComp'].median().loc['India']"
   ]
  },
  {
   "cell_type": "code",
   "execution_count": 33,
   "metadata": {},
   "outputs": [
    {
     "data": {
      "text/plain": [
       "median     68705.000000\n",
       "mean      134018.564909\n",
       "Name: Canada, dtype: float64"
      ]
     },
     "execution_count": 33,
     "metadata": {},
     "output_type": "execute_result"
    }
   ],
   "source": [
    "country_group['ConvertedComp'].agg(['median', 'mean']).loc['Canada']"
   ]
  },
  {
   "cell_type": "code",
   "execution_count": 49,
   "metadata": {},
   "outputs": [
    {
     "data": {
      "text/plain": [
       "False    5739\n",
       "True     3105\n",
       "Name: LanguageWorkedWith, dtype: int64"
      ]
     },
     "execution_count": 49,
     "metadata": {},
     "output_type": "execute_result"
    }
   ],
   "source": [
    "filt = ((df['Country'] == 'India') )\n",
    "df.loc[filt]['LanguageWorkedWith'].str.contains(\"Python\").value_counts() # or you can use sum()"
   ]
  },
  {
   "cell_type": "code",
   "execution_count": 51,
   "metadata": {},
   "outputs": [
    {
     "ename": "AttributeError",
     "evalue": "'SeriesGroupBy' object has no attribute 'str'",
     "output_type": "error",
     "traceback": [
      "\u001b[1;31m---------------------------------------------------------------------------\u001b[0m",
      "\u001b[1;31mAttributeError\u001b[0m                            Traceback (most recent call last)",
      "\u001b[1;32m<ipython-input-51-7fe14e4bd45b>\u001b[0m in \u001b[0;36m<module>\u001b[1;34m\u001b[0m\n\u001b[1;32m----> 1\u001b[1;33m \u001b[0mcountry_group\u001b[0m\u001b[1;33m[\u001b[0m\u001b[1;34m'LanguageWorkedWith'\u001b[0m\u001b[1;33m]\u001b[0m\u001b[1;33m.\u001b[0m\u001b[0mstr\u001b[0m\u001b[1;33m.\u001b[0m\u001b[0mcontains\u001b[0m\u001b[1;33m(\u001b[0m\u001b[1;34m\"Python\"\u001b[0m\u001b[1;33m)\u001b[0m\u001b[1;33m.\u001b[0m\u001b[0msum\u001b[0m\u001b[1;33m(\u001b[0m\u001b[1;33m)\u001b[0m\u001b[1;33m\u001b[0m\u001b[1;33m\u001b[0m\u001b[0m\n\u001b[0m",
      "\u001b[1;32mc:\\users\\skkumar\\appdata\\local\\programs\\python\\python38\\lib\\site-packages\\pandas\\core\\groupby\\groupby.py\u001b[0m in \u001b[0;36m__getattr__\u001b[1;34m(self, attr)\u001b[0m\n\u001b[0;32m    577\u001b[0m             \u001b[1;32mreturn\u001b[0m \u001b[0mself\u001b[0m\u001b[1;33m[\u001b[0m\u001b[0mattr\u001b[0m\u001b[1;33m]\u001b[0m\u001b[1;33m\u001b[0m\u001b[1;33m\u001b[0m\u001b[0m\n\u001b[0;32m    578\u001b[0m \u001b[1;33m\u001b[0m\u001b[0m\n\u001b[1;32m--> 579\u001b[1;33m         raise AttributeError(\n\u001b[0m\u001b[0;32m    580\u001b[0m             \u001b[1;34mf\"'{type(self).__name__}' object has no attribute '{attr}'\"\u001b[0m\u001b[1;33m\u001b[0m\u001b[1;33m\u001b[0m\u001b[0m\n\u001b[0;32m    581\u001b[0m         )\n",
      "\u001b[1;31mAttributeError\u001b[0m: 'SeriesGroupBy' object has no attribute 'str'"
     ]
    }
   ],
   "source": [
    "country_group['LanguageWorkedWith'].str.contains(\"Python\").sum()"
   ]
  },
  {
   "cell_type": "code",
   "execution_count": 69,
   "metadata": {},
   "outputs": [
    {
     "data": {
      "text/plain": [
       "Country           \n",
       "Afghanistan  False    0.794872\n",
       "             True     0.205128\n",
       "Albania      False    0.722892\n",
       "             True     0.277108\n",
       "Algeria      False    0.682540\n",
       "                        ...   \n",
       "Yemen        True     0.176471\n",
       "Zambia       False    0.666667\n",
       "             True     0.333333\n",
       "Zimbabwe     False    0.641026\n",
       "             True     0.358974\n",
       "Name: LanguageWorkedWith, Length: 335, dtype: float64"
      ]
     },
     "execution_count": 69,
     "metadata": {},
     "output_type": "execute_result"
    }
   ],
   "source": [
    "country_group['LanguageWorkedWith'].apply(lambda x: x.str.contains(\"Python\").value_counts(normalize=True))"
   ]
  },
  {
   "cell_type": "code",
   "execution_count": 66,
   "metadata": {},
   "outputs": [
    {
     "data": {
      "text/plain": [
       "Country\n",
       "Afghanistan                              39\n",
       "Albania                                  83\n",
       "Algeria                                 126\n",
       "Andorra                                   7\n",
       "Angola                                    4\n",
       "                                       ... \n",
       "Venezuela, Bolivarian Republic of...     87\n",
       "Viet Nam                                220\n",
       "Yemen                                    17\n",
       "Zambia                                   12\n",
       "Zimbabwe                                 39\n",
       "Name: LanguageWorkedWith, Length: 179, dtype: int64"
      ]
     },
     "execution_count": 66,
     "metadata": {},
     "output_type": "execute_result"
    }
   ],
   "source": [
    "country_repondents = df.groupby(['Country'])\n",
    "country_repondents.map('LanguageWorkedWith'].count()"
   ]
  },
  {
   "cell_type": "code",
   "execution_count": 78,
   "metadata": {},
   "outputs": [],
   "source": [
    "# Question: How to figure out the %age of people who knows Python in a each country\n",
    "#Can be done in multiple ways-\n",
    "#Another way: First find the total respondents in the country. 2) find the people using Python 3) the series you get in 1,2 to be concatenated 4) Formulate a new column that contains the part/whole to get the percentage.\n",
    "#First step\n",
    "country_repondents = df['Country'].value_counts()\n",
    "pyth_users_per_country = country_group['LanguageWorkedWith'].apply(lambda x: x.str.contains(\"Python\").sum())"
   ]
  },
  {
   "cell_type": "code",
   "execution_count": 79,
   "metadata": {},
   "outputs": [
    {
     "data": {
      "text/plain": [
       "Country\n",
       "Afghanistan                              8\n",
       "Albania                                 23\n",
       "Algeria                                 40\n",
       "Andorra                                  0\n",
       "Angola                                   2\n",
       "                                        ..\n",
       "Venezuela, Bolivarian Republic of...    28\n",
       "Viet Nam                                78\n",
       "Yemen                                    3\n",
       "Zambia                                   4\n",
       "Zimbabwe                                14\n",
       "Name: LanguageWorkedWith, Length: 179, dtype: int64"
      ]
     },
     "execution_count": 79,
     "metadata": {},
     "output_type": "execute_result"
    }
   ],
   "source": [
    "pyth_users_per_country"
   ]
  },
  {
   "cell_type": "code",
   "execution_count": 81,
   "metadata": {},
   "outputs": [],
   "source": [
    "python_df = pd.concat([country_repondents,pyth_users_per_country], axis='columns') # axis you set to columns bcz by default it's going to be rows"
   ]
  },
  {
   "cell_type": "code",
   "execution_count": 82,
   "metadata": {},
   "outputs": [
    {
     "data": {
      "text/html": [
       "<div>\n",
       "<style scoped>\n",
       "    .dataframe tbody tr th:only-of-type {\n",
       "        vertical-align: middle;\n",
       "    }\n",
       "\n",
       "    .dataframe tbody tr th {\n",
       "        vertical-align: top;\n",
       "    }\n",
       "\n",
       "    .dataframe thead th {\n",
       "        text-align: right;\n",
       "    }\n",
       "</style>\n",
       "<table border=\"1\" class=\"dataframe\">\n",
       "  <thead>\n",
       "    <tr style=\"text-align: right;\">\n",
       "      <th></th>\n",
       "      <th>Country</th>\n",
       "      <th>LanguageWorkedWith</th>\n",
       "    </tr>\n",
       "  </thead>\n",
       "  <tbody>\n",
       "    <tr>\n",
       "      <th>United States</th>\n",
       "      <td>20949</td>\n",
       "      <td>10083</td>\n",
       "    </tr>\n",
       "    <tr>\n",
       "      <th>India</th>\n",
       "      <td>9061</td>\n",
       "      <td>3105</td>\n",
       "    </tr>\n",
       "    <tr>\n",
       "      <th>Germany</th>\n",
       "      <td>5866</td>\n",
       "      <td>2451</td>\n",
       "    </tr>\n",
       "    <tr>\n",
       "      <th>United Kingdom</th>\n",
       "      <td>5737</td>\n",
       "      <td>2384</td>\n",
       "    </tr>\n",
       "    <tr>\n",
       "      <th>Canada</th>\n",
       "      <td>3395</td>\n",
       "      <td>1558</td>\n",
       "    </tr>\n",
       "    <tr>\n",
       "      <th>...</th>\n",
       "      <td>...</td>\n",
       "      <td>...</td>\n",
       "    </tr>\n",
       "    <tr>\n",
       "      <th>Sao Tome and Principe</th>\n",
       "      <td>1</td>\n",
       "      <td>1</td>\n",
       "    </tr>\n",
       "    <tr>\n",
       "      <th>Papua New Guinea</th>\n",
       "      <td>1</td>\n",
       "      <td>0</td>\n",
       "    </tr>\n",
       "    <tr>\n",
       "      <th>Saint Kitts and Nevis</th>\n",
       "      <td>1</td>\n",
       "      <td>0</td>\n",
       "    </tr>\n",
       "    <tr>\n",
       "      <th>North Korea</th>\n",
       "      <td>1</td>\n",
       "      <td>0</td>\n",
       "    </tr>\n",
       "    <tr>\n",
       "      <th>Tonga</th>\n",
       "      <td>1</td>\n",
       "      <td>0</td>\n",
       "    </tr>\n",
       "  </tbody>\n",
       "</table>\n",
       "<p>179 rows × 2 columns</p>\n",
       "</div>"
      ],
      "text/plain": [
       "                       Country  LanguageWorkedWith\n",
       "United States            20949               10083\n",
       "India                     9061                3105\n",
       "Germany                   5866                2451\n",
       "United Kingdom            5737                2384\n",
       "Canada                    3395                1558\n",
       "...                        ...                 ...\n",
       "Sao Tome and Principe        1                   1\n",
       "Papua New Guinea             1                   0\n",
       "Saint Kitts and Nevis        1                   0\n",
       "North Korea                  1                   0\n",
       "Tonga                        1                   0\n",
       "\n",
       "[179 rows x 2 columns]"
      ]
     },
     "execution_count": 82,
     "metadata": {},
     "output_type": "execute_result"
    }
   ],
   "source": [
    "python_df"
   ]
  },
  {
   "cell_type": "code",
   "execution_count": 83,
   "metadata": {},
   "outputs": [],
   "source": [
    "python_df['Percentage'] = python_df['LanguageWorkedWith']/python_df['Country'] *100"
   ]
  },
  {
   "cell_type": "code",
   "execution_count": 84,
   "metadata": {},
   "outputs": [
    {
     "data": {
      "text/html": [
       "<div>\n",
       "<style scoped>\n",
       "    .dataframe tbody tr th:only-of-type {\n",
       "        vertical-align: middle;\n",
       "    }\n",
       "\n",
       "    .dataframe tbody tr th {\n",
       "        vertical-align: top;\n",
       "    }\n",
       "\n",
       "    .dataframe thead th {\n",
       "        text-align: right;\n",
       "    }\n",
       "</style>\n",
       "<table border=\"1\" class=\"dataframe\">\n",
       "  <thead>\n",
       "    <tr style=\"text-align: right;\">\n",
       "      <th></th>\n",
       "      <th>Country</th>\n",
       "      <th>LanguageWorkedWith</th>\n",
       "      <th>Percentage</th>\n",
       "    </tr>\n",
       "  </thead>\n",
       "  <tbody>\n",
       "    <tr>\n",
       "      <th>United States</th>\n",
       "      <td>20949</td>\n",
       "      <td>10083</td>\n",
       "      <td>48.131176</td>\n",
       "    </tr>\n",
       "    <tr>\n",
       "      <th>India</th>\n",
       "      <td>9061</td>\n",
       "      <td>3105</td>\n",
       "      <td>34.267741</td>\n",
       "    </tr>\n",
       "    <tr>\n",
       "      <th>Germany</th>\n",
       "      <td>5866</td>\n",
       "      <td>2451</td>\n",
       "      <td>41.783157</td>\n",
       "    </tr>\n",
       "    <tr>\n",
       "      <th>United Kingdom</th>\n",
       "      <td>5737</td>\n",
       "      <td>2384</td>\n",
       "      <td>41.554820</td>\n",
       "    </tr>\n",
       "    <tr>\n",
       "      <th>Canada</th>\n",
       "      <td>3395</td>\n",
       "      <td>1558</td>\n",
       "      <td>45.891016</td>\n",
       "    </tr>\n",
       "    <tr>\n",
       "      <th>...</th>\n",
       "      <td>...</td>\n",
       "      <td>...</td>\n",
       "      <td>...</td>\n",
       "    </tr>\n",
       "    <tr>\n",
       "      <th>Sao Tome and Principe</th>\n",
       "      <td>1</td>\n",
       "      <td>1</td>\n",
       "      <td>100.000000</td>\n",
       "    </tr>\n",
       "    <tr>\n",
       "      <th>Papua New Guinea</th>\n",
       "      <td>1</td>\n",
       "      <td>0</td>\n",
       "      <td>0.000000</td>\n",
       "    </tr>\n",
       "    <tr>\n",
       "      <th>Saint Kitts and Nevis</th>\n",
       "      <td>1</td>\n",
       "      <td>0</td>\n",
       "      <td>0.000000</td>\n",
       "    </tr>\n",
       "    <tr>\n",
       "      <th>North Korea</th>\n",
       "      <td>1</td>\n",
       "      <td>0</td>\n",
       "      <td>0.000000</td>\n",
       "    </tr>\n",
       "    <tr>\n",
       "      <th>Tonga</th>\n",
       "      <td>1</td>\n",
       "      <td>0</td>\n",
       "      <td>0.000000</td>\n",
       "    </tr>\n",
       "  </tbody>\n",
       "</table>\n",
       "<p>179 rows × 3 columns</p>\n",
       "</div>"
      ],
      "text/plain": [
       "                       Country  LanguageWorkedWith  Percentage\n",
       "United States            20949               10083   48.131176\n",
       "India                     9061                3105   34.267741\n",
       "Germany                   5866                2451   41.783157\n",
       "United Kingdom            5737                2384   41.554820\n",
       "Canada                    3395                1558   45.891016\n",
       "...                        ...                 ...         ...\n",
       "Sao Tome and Principe        1                   1  100.000000\n",
       "Papua New Guinea             1                   0    0.000000\n",
       "Saint Kitts and Nevis        1                   0    0.000000\n",
       "North Korea                  1                   0    0.000000\n",
       "Tonga                        1                   0    0.000000\n",
       "\n",
       "[179 rows x 3 columns]"
      ]
     },
     "execution_count": 84,
     "metadata": {},
     "output_type": "execute_result"
    }
   ],
   "source": [
    "python_df"
   ]
  },
  {
   "cell_type": "code",
   "execution_count": 86,
   "metadata": {},
   "outputs": [
    {
     "data": {
      "text/plain": [
       "United States             48.131176\n",
       "India                     34.267741\n",
       "Germany                   41.783157\n",
       "United Kingdom            41.554820\n",
       "Canada                    45.891016\n",
       "                            ...    \n",
       "Sao Tome and Principe    100.000000\n",
       "Papua New Guinea           0.000000\n",
       "Saint Kitts and Nevis      0.000000\n",
       "North Korea                0.000000\n",
       "Tonga                      0.000000\n",
       "Name: %age of people who know Python, Length: 179, dtype: float64"
      ]
     },
     "execution_count": 86,
     "metadata": {},
     "output_type": "execute_result"
    }
   ],
   "source": [
    "python_df['Percentage'].rename('%age of people who know Python', inplace=True)"
   ]
  },
  {
   "cell_type": "code",
   "execution_count": 89,
   "metadata": {},
   "outputs": [],
   "source": [
    "python_df.rename(columns={'Country':'NumRespondents', 'LanguageWorkedWith':'NumKnowsPython'}, inplace=True)"
   ]
  },
  {
   "cell_type": "code",
   "execution_count": 91,
   "metadata": {},
   "outputs": [
    {
     "data": {
      "text/plain": [
       "NumRespondents    391.000000\n",
       "NumKnowsPython    182.000000\n",
       "Percentage         46.547315\n",
       "Name: Japan, dtype: float64"
      ]
     },
     "execution_count": 91,
     "metadata": {},
     "output_type": "execute_result"
    }
   ],
   "source": [
    "python_df.loc['Japan']"
   ]
  },
  {
   "cell_type": "code",
   "execution_count": null,
   "metadata": {},
   "outputs": [],
   "source": []
  }
 ],
 "metadata": {
  "kernelspec": {
   "display_name": "Python 3",
   "language": "python",
   "name": "python3"
  },
  "language_info": {
   "codemirror_mode": {
    "name": "ipython",
    "version": 3
   },
   "file_extension": ".py",
   "mimetype": "text/x-python",
   "name": "python",
   "nbconvert_exporter": "python",
   "pygments_lexer": "ipython3",
   "version": "3.8.1"
  }
 },
 "nbformat": 4,
 "nbformat_minor": 4
}
